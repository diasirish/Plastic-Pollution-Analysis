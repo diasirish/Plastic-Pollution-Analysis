{
 "cells": [
  {
   "cell_type": "code",
   "execution_count": 1,
   "metadata": {},
   "outputs": [],
   "source": [
    "import pandas as pd\n",
    "from owid import catalog"
   ]
  },
  {
   "cell_type": "code",
   "execution_count": 3,
   "metadata": {},
   "outputs": [],
   "source": [
    "# opening TheWorldBanks's catalogue (through OurWordlInData API) to see what kind of datasets they have related to \"plastic\"\n",
    "plastic_catalogs = catalog.find('plastic')\n",
    "plastic_catalogs.table.unique()\n",
    "\n",
    "# loading up and taking a first look into some of the datasets \n",
    "dataset_name = \"plastic_aquatic_leakage\"\n",
    "dataset_path = plastic_catalogs[plastic_catalogs['table'] == dataset_name].path.iloc[0]\n",
    "\n",
    "# loading method from the docs\n",
    "rc = catalog.RemoteCatalog() \n",
    "plastic_waste_df = rc[dataset_path]"
   ]
  },
  {
   "cell_type": "code",
   "execution_count": 11,
   "metadata": {},
   "outputs": [
    {
     "data": {
      "text/plain": [
       "CategoricalIndex(['Americas (excl. USA)', 'Asia (excl. China and India)',\n",
       "                  'China', 'Europe', 'India', 'Middle East & North Africa',\n",
       "                  'Oceania', 'Sub-Saharan Africa', 'United States', 'World'],\n",
       "                 categories=['Americas (excl. USA)', 'Asia (excl. China and India)', 'China', 'Europe', ..., 'Oceania', 'Sub-Saharan Africa', 'United States', 'World'], ordered=False, dtype='category', name='country')"
      ]
     },
     "execution_count": 11,
     "metadata": {},
     "output_type": "execute_result"
    }
   ],
   "source": [
    "plastic_waste_df.index.get_level_values(0).unique()"
   ]
  },
  {
   "cell_type": "code",
   "execution_count": 12,
   "metadata": {},
   "outputs": [
    {
     "data": {
      "text/html": [
       "\n",
       "             <h2 style=\"margin-bottom: 0em\"><pre>plastic_aquatic_leakage</pre></h2>\n",
       "             <p style=\"font-variant: small-caps; font-size: 1.5em; font-family: sans-serif; color: grey; margin-top: -0.2em; margin-bottom: 0.2em\">table</p>\n",
       "             <div>\n",
       "<style scoped>\n",
       "    .dataframe tbody tr th:only-of-type {\n",
       "        vertical-align: middle;\n",
       "    }\n",
       "\n",
       "    .dataframe tbody tr th {\n",
       "        vertical-align: top;\n",
       "    }\n",
       "\n",
       "    .dataframe thead th {\n",
       "        text-align: right;\n",
       "    }\n",
       "</style>\n",
       "<table border=\"1\" class=\"dataframe\">\n",
       "  <thead>\n",
       "    <tr style=\"text-align: right;\">\n",
       "      <th></th>\n",
       "      <th></th>\n",
       "      <th></th>\n",
       "      <th>value</th>\n",
       "      <th>share</th>\n",
       "    </tr>\n",
       "    <tr>\n",
       "      <th>country</th>\n",
       "      <th>year</th>\n",
       "      <th>leakage_type</th>\n",
       "      <th></th>\n",
       "      <th></th>\n",
       "    </tr>\n",
       "  </thead>\n",
       "  <tbody>\n",
       "    <tr>\n",
       "      <th rowspan=\"5\" valign=\"top\">Americas (excl. USA)</th>\n",
       "      <th rowspan=\"4\" valign=\"top\">2000</th>\n",
       "      <th>Accumulated stock in oceans</th>\n",
       "      <td>1104799.0</td>\n",
       "      <td>13.040980</td>\n",
       "    </tr>\n",
       "    <tr>\n",
       "      <th>Accumulated stock in rivers and lakes</th>\n",
       "      <td>3986388.0</td>\n",
       "      <td>10.334739</td>\n",
       "    </tr>\n",
       "    <tr>\n",
       "      <th>Plastic leakage to water from mismanaged waste and litter</th>\n",
       "      <td>360642.0</td>\n",
       "      <td>11.337855</td>\n",
       "    </tr>\n",
       "    <tr>\n",
       "      <th>Transport to oceans</th>\n",
       "      <td>87143.0</td>\n",
       "      <td>13.624673</td>\n",
       "    </tr>\n",
       "    <tr>\n",
       "      <th>2001</th>\n",
       "      <th>Accumulated stock in oceans</th>\n",
       "      <td>1198096.0</td>\n",
       "      <td>13.088292</td>\n",
       "    </tr>\n",
       "    <tr>\n",
       "      <th>...</th>\n",
       "      <th>...</th>\n",
       "      <th>...</th>\n",
       "      <td>...</td>\n",
       "      <td>...</td>\n",
       "    </tr>\n",
       "    <tr>\n",
       "      <th rowspan=\"5\" valign=\"top\">World</th>\n",
       "      <th>2018</th>\n",
       "      <th>Transport to oceans</th>\n",
       "      <td>1607172.0</td>\n",
       "      <td>100.000000</td>\n",
       "    </tr>\n",
       "    <tr>\n",
       "      <th rowspan=\"4\" valign=\"top\">2019</th>\n",
       "      <th>Accumulated stock in oceans</th>\n",
       "      <td>30408748.0</td>\n",
       "      <td>100.000000</td>\n",
       "    </tr>\n",
       "    <tr>\n",
       "      <th>Accumulated stock in rivers and lakes</th>\n",
       "      <td>109437000.0</td>\n",
       "      <td>100.000000</td>\n",
       "    </tr>\n",
       "    <tr>\n",
       "      <th>Plastic leakage to water from mismanaged waste and litter</th>\n",
       "      <td>6096216.0</td>\n",
       "      <td>100.000000</td>\n",
       "    </tr>\n",
       "    <tr>\n",
       "      <th>Transport to oceans</th>\n",
       "      <td>1661229.0</td>\n",
       "      <td>100.000000</td>\n",
       "    </tr>\n",
       "  </tbody>\n",
       "</table>\n",
       "<p>800 rows × 2 columns</p>\n",
       "</div>\n",
       "        "
      ],
      "text/plain": [
       "                                                                                    value  \\\n",
       "country              year leakage_type                                                      \n",
       "Americas (excl. USA) 2000 Accumulated stock in oceans                           1104799.0   \n",
       "                          Accumulated stock in rivers and lakes                 3986388.0   \n",
       "                          Plastic leakage to water from mismanaged waste ...     360642.0   \n",
       "                          Transport to oceans                                     87143.0   \n",
       "                     2001 Accumulated stock in oceans                           1198096.0   \n",
       "...                                                                                   ...   \n",
       "World                2018 Transport to oceans                                   1607172.0   \n",
       "                     2019 Accumulated stock in oceans                          30408748.0   \n",
       "                          Accumulated stock in rivers and lakes               109437000.0   \n",
       "                          Plastic leakage to water from mismanaged waste ...    6096216.0   \n",
       "                          Transport to oceans                                   1661229.0   \n",
       "\n",
       "                                                                                   share  \n",
       "country              year leakage_type                                                    \n",
       "Americas (excl. USA) 2000 Accumulated stock in oceans                          13.040980  \n",
       "                          Accumulated stock in rivers and lakes                10.334739  \n",
       "                          Plastic leakage to water from mismanaged waste ...   11.337855  \n",
       "                          Transport to oceans                                  13.624673  \n",
       "                     2001 Accumulated stock in oceans                          13.088292  \n",
       "...                                                                                  ...  \n",
       "World                2018 Transport to oceans                                 100.000000  \n",
       "                     2019 Accumulated stock in oceans                         100.000000  \n",
       "                          Accumulated stock in rivers and lakes               100.000000  \n",
       "                          Plastic leakage to water from mismanaged waste ...  100.000000  \n",
       "                          Transport to oceans                                 100.000000  \n",
       "\n",
       "[800 rows x 2 columns]"
      ]
     },
     "execution_count": 12,
     "metadata": {},
     "output_type": "execute_result"
    }
   ],
   "source": [
    "plastic_waste_df"
   ]
  },
  {
   "cell_type": "code",
   "execution_count": null,
   "metadata": {},
   "outputs": [],
   "source": []
  }
 ],
 "metadata": {
  "kernelspec": {
   "display_name": "data_analysis",
   "language": "python",
   "name": "python3"
  },
  "language_info": {
   "codemirror_mode": {
    "name": "ipython",
    "version": 3
   },
   "file_extension": ".py",
   "mimetype": "text/x-python",
   "name": "python",
   "nbconvert_exporter": "python",
   "pygments_lexer": "ipython3",
   "version": "3.12.2"
  }
 },
 "nbformat": 4,
 "nbformat_minor": 2
}
