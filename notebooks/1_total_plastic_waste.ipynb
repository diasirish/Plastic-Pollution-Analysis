{
 "cells": [
  {
   "cell_type": "code",
   "execution_count": 1,
   "metadata": {},
   "outputs": [],
   "source": [
    "import pandas as pd\n",
    "\n",
    "from owid import catalog\n",
    "from owid.catalog import charts"
   ]
  },
  {
   "cell_type": "code",
   "execution_count": 2,
   "metadata": {},
   "outputs": [
    {
     "data": {
      "text/html": [
       "<div>\n",
       "<style scoped>\n",
       "    .dataframe tbody tr th:only-of-type {\n",
       "        vertical-align: middle;\n",
       "    }\n",
       "\n",
       "    .dataframe tbody tr th {\n",
       "        vertical-align: top;\n",
       "    }\n",
       "\n",
       "    .dataframe thead th {\n",
       "        text-align: right;\n",
       "    }\n",
       "</style>\n",
       "<table border=\"1\" class=\"dataframe\">\n",
       "  <thead>\n",
       "    <tr style=\"text-align: right;\">\n",
       "      <th></th>\n",
       "      <th>country</th>\n",
       "      <th>code</th>\n",
       "      <th>year</th>\n",
       "      <th>total_plastic_waste</th>\n",
       "    </tr>\n",
       "  </thead>\n",
       "  <tbody>\n",
       "    <tr>\n",
       "      <th>0</th>\n",
       "      <td>Albania</td>\n",
       "      <td>ALB</td>\n",
       "      <td>2010</td>\n",
       "      <td>73364</td>\n",
       "    </tr>\n",
       "    <tr>\n",
       "      <th>1</th>\n",
       "      <td>Algeria</td>\n",
       "      <td>DZA</td>\n",
       "      <td>2010</td>\n",
       "      <td>1898343</td>\n",
       "    </tr>\n",
       "    <tr>\n",
       "      <th>2</th>\n",
       "      <td>Angola</td>\n",
       "      <td>AGO</td>\n",
       "      <td>2010</td>\n",
       "      <td>528843</td>\n",
       "    </tr>\n",
       "    <tr>\n",
       "      <th>3</th>\n",
       "      <td>Antigua and Barbuda</td>\n",
       "      <td>ATG</td>\n",
       "      <td>2010</td>\n",
       "      <td>22804</td>\n",
       "    </tr>\n",
       "    <tr>\n",
       "      <th>4</th>\n",
       "      <td>Argentina</td>\n",
       "      <td>ARG</td>\n",
       "      <td>2010</td>\n",
       "      <td>2753550</td>\n",
       "    </tr>\n",
       "    <tr>\n",
       "      <th>...</th>\n",
       "      <td>...</td>\n",
       "      <td>...</td>\n",
       "      <td>...</td>\n",
       "      <td>...</td>\n",
       "    </tr>\n",
       "    <tr>\n",
       "      <th>163</th>\n",
       "      <td>Uruguay</td>\n",
       "      <td>URY</td>\n",
       "      <td>2010</td>\n",
       "      <td>310379</td>\n",
       "    </tr>\n",
       "    <tr>\n",
       "      <th>164</th>\n",
       "      <td>Vanuatu</td>\n",
       "      <td>VUT</td>\n",
       "      <td>2010</td>\n",
       "      <td>25443</td>\n",
       "    </tr>\n",
       "    <tr>\n",
       "      <th>165</th>\n",
       "      <td>Venezuela</td>\n",
       "      <td>VEN</td>\n",
       "      <td>2010</td>\n",
       "      <td>2669998</td>\n",
       "    </tr>\n",
       "    <tr>\n",
       "      <th>166</th>\n",
       "      <td>Vietnam</td>\n",
       "      <td>VNM</td>\n",
       "      <td>2010</td>\n",
       "      <td>3268227</td>\n",
       "    </tr>\n",
       "    <tr>\n",
       "      <th>167</th>\n",
       "      <td>Yemen</td>\n",
       "      <td>YEM</td>\n",
       "      <td>2010</td>\n",
       "      <td>887497</td>\n",
       "    </tr>\n",
       "  </tbody>\n",
       "</table>\n",
       "<p>168 rows × 4 columns</p>\n",
       "</div>"
      ],
      "text/plain": [
       "                 country code  year  total_plastic_waste\n",
       "0                Albania  ALB  2010                73364\n",
       "1                Algeria  DZA  2010              1898343\n",
       "2                 Angola  AGO  2010               528843\n",
       "3    Antigua and Barbuda  ATG  2010                22804\n",
       "4              Argentina  ARG  2010              2753550\n",
       "..                   ...  ...   ...                  ...\n",
       "163              Uruguay  URY  2010               310379\n",
       "164              Vanuatu  VUT  2010                25443\n",
       "165            Venezuela  VEN  2010              2669998\n",
       "166              Vietnam  VNM  2010              3268227\n",
       "167                Yemen  YEM  2010               887497\n",
       "\n",
       "[168 rows x 4 columns]"
      ]
     },
     "execution_count": 2,
     "metadata": {},
     "output_type": "execute_result"
    }
   ],
   "source": [
    "country_keys = pd.read_csv('../data/plastic-waste-generation-total.csv')\n",
    "country_keys.columns = ['country', 'code', 'year', 'total_plastic_waste']\n",
    "country_keys"
   ]
  },
  {
   "cell_type": "code",
   "execution_count": 3,
   "metadata": {},
   "outputs": [],
   "source": [
    "# opening TheWorldBanks's catalogue\n",
    "plastic_catalogs = catalog.find('plastic')\n",
    "dataset_name = \"plastic_use_polymer\"\n",
    "dataset_path = plastic_catalogs[plastic_catalogs['table'] == dataset_name].path.iloc[0]\n",
    "\n",
    "# loading method from the docs\n",
    "rc = catalog.RemoteCatalog() \n",
    "plastic_polymer_df = rc[dataset_path]"
   ]
  },
  {
   "cell_type": "code",
   "execution_count": 4,
   "metadata": {},
   "outputs": [
    {
     "data": {
      "text/html": [
       "\n",
       "             <h2 style=\"margin-bottom: 0em\"><pre>('World', 2010)</pre></h2>\n",
       "             <p style=\"font-variant: small-caps; font-size: 1.5em; font-family: sans-serif; color: grey; margin-top: -0.2em; margin-bottom: 0.2em\">variable</p>\n",
       "             <pre>abs__asa__san              6979000.0\n",
       "bioplastics                1807000.0\n",
       "elastomers__tyres          6010000.0\n",
       "fibres                    46351000.0\n",
       "hdpe                      40725000.0\n",
       "ldpe__lldpe               41196000.0\n",
       "marine_coatings             429000.0\n",
       "other                     62183000.0\n",
       "pet                       18537000.0\n",
       "pp                        55357000.0\n",
       "ps                        16320000.0\n",
       "pur                       13906000.0\n",
       "pvc                       38565000.0\n",
       "road_marking_coatings       515000.0\n",
       "total                    348880000.0\n",
       "Name: (World, 2010), dtype: float32</pre>\n",
       "        "
      ],
      "text/plain": [
       "abs__asa__san              6979000.0\n",
       "bioplastics                1807000.0\n",
       "elastomers__tyres          6010000.0\n",
       "fibres                    46351000.0\n",
       "hdpe                      40725000.0\n",
       "ldpe__lldpe               41196000.0\n",
       "marine_coatings             429000.0\n",
       "other                     62183000.0\n",
       "pet                       18537000.0\n",
       "pp                        55357000.0\n",
       "ps                        16320000.0\n",
       "pur                       13906000.0\n",
       "pvc                       38565000.0\n",
       "road_marking_coatings       515000.0\n",
       "total                    348880000.0\n",
       "Name: (World, 2010), dtype: float32"
      ]
     },
     "execution_count": 4,
     "metadata": {},
     "output_type": "execute_result"
    }
   ],
   "source": [
    "plastic_polymer_df.loc['World', 2010]"
   ]
  },
  {
   "cell_type": "code",
   "execution_count": 5,
   "metadata": {},
   "outputs": [
    {
     "name": "stdout",
     "output_type": "stream",
     "text": [
      "168\n",
      "[2010]\n",
      "Index(['country', 'code', 'year', 'total_plastic_waste'], dtype='object')\n",
      "273271934\n"
     ]
    }
   ],
   "source": [
    "print(country_keys.country.nunique())\n",
    "print(country_keys.year.unique())\n",
    "print(country_keys.columns)\n",
    "print(country_keys['total_plastic_waste'].sum())\n"
   ]
  },
  {
   "cell_type": "code",
   "execution_count": 6,
   "metadata": {},
   "outputs": [
    {
     "name": "stdout",
     "output_type": "stream",
     "text": [
      "Total % of plastic produced turned to waste: 78.3283461362073\n"
     ]
    }
   ],
   "source": [
    "total_plastic_polymere_production = plastic_polymer_df.loc['World', 2010]['total']\n",
    "total_plastic_waste_generation = country_keys['total_plastic_waste'].sum()\n",
    "waste_to_production = total_plastic_waste_generation/total_plastic_polymere_production\n",
    "print(f'Total % of plastic produced turned to waste: {waste_to_production*100}')"
   ]
  },
  {
   "cell_type": "code",
   "execution_count": 7,
   "metadata": {},
   "outputs": [],
   "source": [
    "plastic_polymer_df['total_to_2010'] = plastic_polymer_df['total'] / total_plastic_polymere_production\n",
    "plastic_polymer_df = plastic_polymer_df.reset_index()\n",
    "plastic_polymer_df = plastic_polymer_df.drop(columns='country')"
   ]
  },
  {
   "cell_type": "code",
   "execution_count": 8,
   "metadata": {},
   "outputs": [
    {
     "data": {
      "text/html": [
       "\n",
       "             <h2 style=\"margin-bottom: 0em\"><pre>plastic_use_polymer</pre></h2>\n",
       "             <p style=\"font-variant: small-caps; font-size: 1.5em; font-family: sans-serif; color: grey; margin-top: -0.2em; margin-bottom: 0.2em\">table</p>\n",
       "             <div>\n",
       "<style scoped>\n",
       "    .dataframe tbody tr th:only-of-type {\n",
       "        vertical-align: middle;\n",
       "    }\n",
       "\n",
       "    .dataframe tbody tr th {\n",
       "        vertical-align: top;\n",
       "    }\n",
       "\n",
       "    .dataframe thead th {\n",
       "        text-align: right;\n",
       "    }\n",
       "</style>\n",
       "<table border=\"1\" class=\"dataframe\">\n",
       "  <thead>\n",
       "    <tr style=\"text-align: right;\">\n",
       "      <th></th>\n",
       "      <th>year</th>\n",
       "      <th>total</th>\n",
       "      <th>total_to_2010</th>\n",
       "    </tr>\n",
       "  </thead>\n",
       "  <tbody>\n",
       "    <tr>\n",
       "      <th>0</th>\n",
       "      <td>1990</td>\n",
       "      <td>129886992.0</td>\n",
       "      <td>0.372297</td>\n",
       "    </tr>\n",
       "    <tr>\n",
       "      <th>1</th>\n",
       "      <td>1991</td>\n",
       "      <td>134870000.0</td>\n",
       "      <td>0.386580</td>\n",
       "    </tr>\n",
       "    <tr>\n",
       "      <th>2</th>\n",
       "      <td>1992</td>\n",
       "      <td>143569008.0</td>\n",
       "      <td>0.411514</td>\n",
       "    </tr>\n",
       "    <tr>\n",
       "      <th>3</th>\n",
       "      <td>1993</td>\n",
       "      <td>149684992.0</td>\n",
       "      <td>0.429044</td>\n",
       "    </tr>\n",
       "    <tr>\n",
       "      <th>4</th>\n",
       "      <td>1994</td>\n",
       "      <td>164447008.0</td>\n",
       "      <td>0.471357</td>\n",
       "    </tr>\n",
       "  </tbody>\n",
       "</table>\n",
       "</div>\n",
       "        "
      ],
      "text/plain": [
       "   year        total  total_to_2010\n",
       "0  1990  129886992.0       0.372297\n",
       "1  1991  134870000.0       0.386580\n",
       "2  1992  143569008.0       0.411514\n",
       "3  1993  149684992.0       0.429044\n",
       "4  1994  164447008.0       0.471357"
      ]
     },
     "execution_count": 8,
     "metadata": {},
     "output_type": "execute_result"
    }
   ],
   "source": [
    "columns_to_drop = [column for column in plastic_polymer_df.columns if column not in (['year', 'total', 'total_to_2010'])]\n",
    "plastic_polymer_df = plastic_polymer_df.drop(columns=columns_to_drop)\n",
    "plastic_polymer_df.head()"
   ]
  },
  {
   "cell_type": "code",
   "execution_count": 9,
   "metadata": {},
   "outputs": [],
   "source": [
    "# expanded_df = pd.DataFrame()\n",
    "# for country in country_keys['country'].unique():\n",
    "#     full_df = pd.merge(plastic_polymer_df, country_keys[country_keys['country'] == country], on='year', how ='left')\n",
    "#     full_df['country'] = country\n",
    "#     full_df['total'] = full_df['total'] * full_df['total_to_2010']\n",
    "#     expanded_df = pd.concat([expanded_df, full_df], ignore_index=True)\n",
    "\n"
   ]
  },
  {
   "cell_type": "code",
   "execution_count": 10,
   "metadata": {},
   "outputs": [],
   "source": [
    "# columns_to_drop = [column for column in expanded_df.columns if column not in (['year', 'total', 'total_to_2010', 'country'])]\n",
    "# expanded_df = expanded_df.drop(columns=columns_to_drop)"
   ]
  },
  {
   "cell_type": "code",
   "execution_count": 14,
   "metadata": {},
   "outputs": [],
   "source": [
    "# adjust country keys with the coefficient waste_to_production to get the number of plastic produced\n",
    "# ASSUMPTION 1\n",
    "country_keys['total_plastic_waste'] /= waste_to_production\n",
    "country_keys.columns = ['country', 'code', 'year', 'total_plastic_production']"
   ]
  },
  {
   "cell_type": "code",
   "execution_count": 63,
   "metadata": {},
   "outputs": [],
   "source": [
    "extended_df = pd.DataFrame() \n",
    "for country in country_keys['country'].unique():\n",
    "    working_country = country_keys[country_keys['country'] == country]\n",
    "    a = plastic_polymer_df.copy()\n",
    "    a['country_produced_plastic'] = a['total_to_2010'] * working_country['total_plastic_production'].iloc[0]\n",
    "    a['country'] = country\n",
    "    a = a.drop(columns=['total', 'total_to_2010'])\n",
    "    extended_df = pd.concat([extended_df, a])\n"
   ]
  },
  {
   "cell_type": "code",
   "execution_count": 65,
   "metadata": {},
   "outputs": [
    {
     "data": {
      "text/plain": [
       "5040"
      ]
     },
     "execution_count": 65,
     "metadata": {},
     "output_type": "execute_result"
    }
   ],
   "source": [
    "extended_df['country_produced_plastic'].nunique()"
   ]
  },
  {
   "cell_type": "markdown",
   "metadata": {},
   "source": []
  },
  {
   "cell_type": "markdown",
   "metadata": {},
   "source": []
  },
  {
   "cell_type": "markdown",
   "metadata": {},
   "source": [
    "* What I did here, is I extracted dataset with total polymere production in 1990-2019 (worldwide), and extracted another dataset with 168 countries data with plastic waste generation in 2010.\n",
    "* Then I calculated the total ammount of plastic waste generated (ASSUMPTION 1: the world consist of 168 countries and no more), and got a proportion of plastic to waste generation. To get the approximate number of plastic that each country produced in 2010. \n",
    "* To get the country production by year, I saw how much the prodiction in the first dataset was changing (in proportion to 2010) and applied these proportions to every country\n",
    "\n",
    "TODO: \n",
    "* [] try to find the data for each country's GDP \n",
    "* [] adjust total production of polymers to the proprtion of this countries GDP's production (details are in the notes)\n",
    "* [] correct the number of yearly prodiction to the proportion of this countries GDP within years."
   ]
  },
  {
   "cell_type": "code",
   "execution_count": null,
   "metadata": {},
   "outputs": [],
   "source": []
  },
  {
   "cell_type": "code",
   "execution_count": null,
   "metadata": {},
   "outputs": [],
   "source": []
  }
 ],
 "metadata": {
  "kernelspec": {
   "display_name": "data_analysis",
   "language": "python",
   "name": "python3"
  },
  "language_info": {
   "codemirror_mode": {
    "name": "ipython",
    "version": 3
   },
   "file_extension": ".py",
   "mimetype": "text/x-python",
   "name": "python",
   "nbconvert_exporter": "python",
   "pygments_lexer": "ipython3",
   "version": "3.12.2"
  }
 },
 "nbformat": 4,
 "nbformat_minor": 2
}
