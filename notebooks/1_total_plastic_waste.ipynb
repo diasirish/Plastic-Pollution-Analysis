{
 "cells": [
  {
   "cell_type": "code",
   "execution_count": 10,
   "metadata": {},
   "outputs": [],
   "source": [
    "import pandas as pd\n",
    "\n",
    "from owid import catalog\n",
    "from owid.catalog import charts"
   ]
  },
  {
   "cell_type": "code",
   "execution_count": null,
   "metadata": {},
   "outputs": [],
   "source": [
    "country_keys = pd.read_csv('../data/plastic-waste-generation-total.csv')\n",
    "country_keys"
   ]
  },
  {
   "cell_type": "code",
   "execution_count": 11,
   "metadata": {},
   "outputs": [
    {
     "ename": "NameError",
     "evalue": "name 'plastic_catalogs' is not defined",
     "output_type": "error",
     "traceback": [
      "\u001b[0;31m---------------------------------------------------------------------------\u001b[0m",
      "\u001b[0;31mNameError\u001b[0m                                 Traceback (most recent call last)",
      "Cell \u001b[0;32mIn[11], line 3\u001b[0m\n\u001b[1;32m      1\u001b[0m \u001b[38;5;66;03m# loading up and taking a first look into some of the datasets \u001b[39;00m\n\u001b[1;32m      2\u001b[0m dataset_name \u001b[38;5;241m=\u001b[39m \u001b[38;5;124m\"\u001b[39m\u001b[38;5;124mplastic_use_polymer\u001b[39m\u001b[38;5;124m\"\u001b[39m\n\u001b[0;32m----> 3\u001b[0m dataset_path \u001b[38;5;241m=\u001b[39m plastic_catalogs[plastic_catalogs[\u001b[38;5;124m'\u001b[39m\u001b[38;5;124mtable\u001b[39m\u001b[38;5;124m'\u001b[39m] \u001b[38;5;241m==\u001b[39m dataset_name]\u001b[38;5;241m.\u001b[39mpath\u001b[38;5;241m.\u001b[39miloc[\u001b[38;5;241m0\u001b[39m]\n\u001b[1;32m      5\u001b[0m \u001b[38;5;66;03m# loading method from the docs\u001b[39;00m\n\u001b[1;32m      6\u001b[0m rc \u001b[38;5;241m=\u001b[39m catalog\u001b[38;5;241m.\u001b[39mRemoteCatalog() \n",
      "\u001b[0;31mNameError\u001b[0m: name 'plastic_catalogs' is not defined"
     ]
    }
   ],
   "source": [
    "# opening TheWorldBanks's catalogue (through OurWordlInData API) to see what kind of datasets they have related to \"plastic\"\n",
    "plastic_catalogs = catalog.find('plastic')\n",
    "plastic_catalogs.table.unique()\n",
    "\n",
    "# loading up and taking a first look into some of the datasets \n",
    "dataset_name = \"plastic_use_polymer\"\n",
    "dataset_path = plastic_catalogs[plastic_catalogs['table'] == dataset_name].path.iloc[0]\n",
    "\n",
    "# loading method from the docs\n",
    "rc = catalog.RemoteCatalog() \n",
    "plastic_polymer_df = rc[dataset_path]\n",
    "\n",
    "\n",
    "# loading up and taking a first look into some of the datasets \n",
    "dataset_name = \"plastic_use_polymer\"\n",
    "dataset_path = plastic_catalogs[plastic_catalogs['table'] == dataset_name].path.iloc[0]\n",
    "\n",
    "# loading method from the docs\n",
    "rc = catalog.RemoteCatalog() \n",
    "plastic_polymer_df = rc[dataset_path]"
   ]
  },
  {
   "cell_type": "code",
   "execution_count": null,
   "metadata": {},
   "outputs": [],
   "source": []
  }
 ],
 "metadata": {
  "kernelspec": {
   "display_name": "Python (data_analysis)",
   "language": "python",
   "name": "data_analysis"
  },
  "language_info": {
   "codemirror_mode": {
    "name": "ipython",
    "version": 3
   },
   "file_extension": ".py",
   "mimetype": "text/x-python",
   "name": "python",
   "nbconvert_exporter": "python",
   "pygments_lexer": "ipython3",
   "version": "3.12.3"
  }
 },
 "nbformat": 4,
 "nbformat_minor": 2
}
