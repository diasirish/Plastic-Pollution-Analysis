{
 "cells": [
  {
   "cell_type": "code",
   "execution_count": null,
   "metadata": {},
   "outputs": [],
   "source": [
    "import pandas as pd\n",
    "df_1 = pd.read_csv('../data/01_world_spatio_temporal_plastic_production_v0.csv')\n",
    "df_1.columns = ['year', 'plastic_produced', 'country']\n",
    "df_1.head()"
   ]
  },
  {
   "cell_type": "code",
   "execution_count": null,
   "metadata": {},
   "outputs": [],
   "source": [
    "import geopandas as gpd\n",
    "world = gpd.read_file('../data/ne_110m_admin_0_countries/ne_110m_admin_0_countries.shp')\n",
    "\n",
    "# because three countries do not match with names, we correct it with hands\n",
    "world.loc[world['NAME'] == \"Dem. Rep. Congo\", 'NAME'] = 'Democratic Republic of Congo'\n",
    "world.loc[world['NAME'] == \"Eq. Guinea\", 'NAME'] = 'Equatorial Guinea'\n",
    "world.loc[world['NAME'] == \"United States of America\", 'NAME'] = 'United States'"
   ]
  },
  {
   "cell_type": "code",
   "execution_count": null,
   "metadata": {},
   "outputs": [],
   "source": [
    "set_01 = set(world.NAME)\n",
    "set_02 = set(df_1.country)\n",
    "len(set_01.intersection(set_02))"
   ]
  },
  {
   "cell_type": "markdown",
   "metadata": {},
   "source": [
    "We lost some values (25% or 44 countries), but it's okay. Later we will figure out why there are some geometries missing."
   ]
  },
  {
   "cell_type": "code",
   "execution_count": null,
   "metadata": {},
   "outputs": [],
   "source": [
    "# merging\n",
    "gdf = world.merge(df_1, left_on='NAME', right_on='country')"
   ]
  },
  {
   "cell_type": "code",
   "execution_count": null,
   "metadata": {},
   "outputs": [],
   "source": [
    "import plotly.express as px\n",
    "# Create an animated choropleth map\n",
    "fig = px.choropleth(gdf,\n",
    "                    geojson=gdf.geometry,\n",
    "                    locations=gdf.index,\n",
    "                    color='plastic_produced',\n",
    "                    hover_name='country',\n",
    "                    hover_data=['plastic_produced'],\n",
    "                    animation_frame='year',\n",
    "                    projection='natural earth')\n",
    "\n",
    "fig.update_geos(fitbounds=\"locations\", visible=False)\n",
    "fig.update_layout(margin={\"r\":0,\"t\":0,\"l\":0,\"b\":0})\n"
   ]
  }
 ],
 "metadata": {
  "language_info": {
   "name": "python"
  }
 },
 "nbformat": 4,
 "nbformat_minor": 2
}
